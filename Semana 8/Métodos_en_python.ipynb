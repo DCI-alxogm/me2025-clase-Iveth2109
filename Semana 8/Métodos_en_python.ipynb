{
  "nbformat": 4,
  "nbformat_minor": 0,
  "metadata": {
    "colab": {
      "provenance": [],
      "authorship_tag": "ABX9TyP8NULbTofe7+d9fbJaAMPq",
      "include_colab_link": true
    },
    "kernelspec": {
      "name": "python3",
      "display_name": "Python 3"
    },
    "language_info": {
      "name": "python"
    }
  },
  "cells": [
    {
      "cell_type": "markdown",
      "metadata": {
        "id": "view-in-github",
        "colab_type": "text"
      },
      "source": [
        "<a href=\"https://colab.research.google.com/github/DCI-alxogm/me2025-clase-Iveth2109/blob/main/Semana%208/M%C3%A9todos_en_python.ipynb\" target=\"_parent\"><img src=\"https://colab.research.google.com/assets/colab-badge.svg\" alt=\"Open In Colab\"/></a>"
      ]
    },
    {
      "cell_type": "code",
      "source": [
        "#Métodos para la función (e^-x)-x"
      ],
      "metadata": {
        "id": "t77rDOVtJqPO"
      },
      "execution_count": 16,
      "outputs": []
    },
    {
      "cell_type": "code",
      "execution_count": 5,
      "metadata": {
        "colab": {
          "base_uri": "https://localhost:8080/"
        },
        "id": "HcX1B6bLEQmD",
        "outputId": "f6f8f98d-d5a3-4d09-86a4-b5f025414fff"
      },
      "outputs": [
        {
          "output_type": "stream",
          "name": "stdout",
          "text": [
            "      converged: True\n",
            "           flag: converged\n",
            " function_calls: 3\n",
            "     iterations: 2\n",
            "           root: 0.5671330971300315\n",
            "         method: secant\n"
          ]
        }
      ],
      "source": [
        "import scipy as sp\n",
        "import numpy as np\n",
        "f = lambda x: np.exp(-x) - x\n",
        "res = sp.optimize.root_scalar(f, x0=0.5, method='secant', rtol=0.1)\n",
        "print(res)\n"
      ]
    },
    {
      "cell_type": "code",
      "source": [
        "  import scipy as sp\n",
        "  import numpy as np\n",
        "  f = lambda x: np.exp(-x) - x\n",
        "  sp.optimize.root_scalar(f,x0=0,method='newton',rtol=0.1)"
      ],
      "metadata": {
        "colab": {
          "base_uri": "https://localhost:8080/"
        },
        "id": "mIfIHvv9E9xX",
        "outputId": "91625fdd-6d5e-4e15-ce06-5d1ec5442dc4"
      },
      "execution_count": 6,
      "outputs": [
        {
          "output_type": "execute_result",
          "data": {
            "text/plain": [
              "      converged: True\n",
              "           flag: converged\n",
              " function_calls: 6\n",
              "     iterations: 3\n",
              "           root: 0.5671431650369697\n",
              "         method: newton"
            ]
          },
          "metadata": {},
          "execution_count": 6
        }
      ]
    },
    {
      "cell_type": "code",
      "source": [
        "  import scipy as sp\n",
        "  import numpy as np\n",
        "  f = lambda x: np.exp(-x) - x\n",
        "  sp.optimize.root_scalar(f,bracket=[0,1],method='bisect',rtol=0.1)"
      ],
      "metadata": {
        "colab": {
          "base_uri": "https://localhost:8080/"
        },
        "id": "_flnaEnmFDEa",
        "outputId": "644e757e-c2f6-40e1-8ad1-d9ef84f5489e"
      },
      "execution_count": 26,
      "outputs": [
        {
          "output_type": "execute_result",
          "data": {
            "text/plain": [
              "      converged: True\n",
              "           flag: converged\n",
              " function_calls: 7\n",
              "     iterations: 5\n",
              "           root: 0.59375\n",
              "         method: bisect"
            ]
          },
          "metadata": {},
          "execution_count": 26
        }
      ]
    },
    {
      "cell_type": "code",
      "source": [
        "  import scipy as sp\n",
        "  import numpy as np\n",
        "  f = lambda x: np.exp(-x) - x\n",
        "  res_brent = sp.optimize.root_scalar(f, bracket=[0,1], method='brentq', rtol=0.1)\n",
        "  print(res_brent)"
      ],
      "metadata": {
        "colab": {
          "base_uri": "https://localhost:8080/"
        },
        "id": "a52FxVWvI979",
        "outputId": "52bcef0a-11ac-4894-8e79-14efdaa0ce79"
      },
      "execution_count": 22,
      "outputs": [
        {
          "output_type": "stream",
          "name": "stdout",
          "text": [
            "      converged: True\n",
            "           flag: converged\n",
            " function_calls: 4\n",
            "     iterations: 3\n",
            "           root: 0.5670696433033896\n",
            "         method: brentq\n"
          ]
        }
      ]
    },
    {
      "cell_type": "code",
      "source": [
        "#Métodos para la función ((9.81 * 68.1) / c) * (1 - exp(-(c / 68.1) * 10.0)) - 40.0"
      ],
      "metadata": {
        "id": "Gbp9WbP_JwoG"
      },
      "execution_count": 17,
      "outputs": []
    },
    {
      "cell_type": "code",
      "source": [
        "  import scipy as sp\n",
        "  import numpy as np\n",
        "  f = lambda c: ((9.81 * 68.1) / c) * (1 - np.exp(-(c / 68.1) * 10.0)) - 40.0\n",
        "  res = sp.optimize.root_scalar(f, x0=0.5, method='secant', rtol=0.0001)\n",
        "  print(res)"
      ],
      "metadata": {
        "colab": {
          "base_uri": "https://localhost:8080/"
        },
        "id": "PjdGLGDOKGV7",
        "outputId": "7ab1f9c0-f73b-4b41-e30d-8c29971d5189"
      },
      "execution_count": 34,
      "outputs": [
        {
          "output_type": "stream",
          "name": "stdout",
          "text": [
            "      converged: True\n",
            "           flag: converged\n",
            " function_calls: 8\n",
            "     iterations: 7\n",
            "           root: 14.80113594444654\n",
            "         method: secant\n"
          ]
        }
      ]
    },
    {
      "cell_type": "code",
      "source": [
        "  import scipy as sp\n",
        "  import numpy as np\n",
        "  f = lambda c: ((9.81 * 68.1) / c) * (1 - np.exp(-(c / 68.1) * 10.0)) - 40.0\n",
        "  sp.optimize.root_scalar(f,x0=0.5,method='newton',rtol=0.0001)"
      ],
      "metadata": {
        "colab": {
          "base_uri": "https://localhost:8080/"
        },
        "id": "OkD7meeiK5fa",
        "outputId": "91b21504-6f4f-4f82-94f4-6d4f0eb0f7d5"
      },
      "execution_count": 35,
      "outputs": [
        {
          "output_type": "execute_result",
          "data": {
            "text/plain": [
              "      converged: True\n",
              "           flag: converged\n",
              " function_calls: 10\n",
              "     iterations: 5\n",
              "           root: 14.801135942727466\n",
              "         method: newton"
            ]
          },
          "metadata": {},
          "execution_count": 35
        }
      ]
    },
    {
      "cell_type": "code",
      "source": [
        "  import scipy as sp\n",
        "  import numpy as np\n",
        "  f = lambda c: ((9.81 * 68.1) / c) * (1 - np.exp(-(c / 68.1) * 10.0)) - 40.0\n",
        "  sp.optimize.root_scalar(f,bracket=[4,20],method='bisect',rtol=0.0001)"
      ],
      "metadata": {
        "colab": {
          "base_uri": "https://localhost:8080/"
        },
        "id": "wkPCsMbNLfhE",
        "outputId": "a99573b0-ae21-4249-838f-905f62446275"
      },
      "execution_count": 36,
      "outputs": [
        {
          "output_type": "execute_result",
          "data": {
            "text/plain": [
              "      converged: True\n",
              "           flag: converged\n",
              " function_calls: 16\n",
              "     iterations: 14\n",
              "           root: 14.8017578125\n",
              "         method: bisect"
            ]
          },
          "metadata": {},
          "execution_count": 36
        }
      ]
    },
    {
      "cell_type": "code",
      "source": [
        "  import scipy as sp\n",
        "  import numpy as np\n",
        "  f = lambda c: ((9.81 * 68.1) / c) * (1 - np.exp(-(c / 68.1) * 10.0)) - 40.0\n",
        "  res_brent = sp.optimize.root_scalar(f, bracket=[4,20], method='brentq', rtol=0.1)\n",
        "  print(res_brent)"
      ],
      "metadata": {
        "colab": {
          "base_uri": "https://localhost:8080/"
        },
        "id": "IMc3GYw7MF3-",
        "outputId": "7b7eec70-61c7-4928-9841-aaa8cdbcfb62"
      },
      "execution_count": 38,
      "outputs": [
        {
          "output_type": "stream",
          "name": "stdout",
          "text": [
            "      converged: True\n",
            "           flag: converged\n",
            " function_calls: 5\n",
            "     iterations: 4\n",
            "           root: 14.605818548850237\n",
            "         method: brentq\n"
          ]
        }
      ]
    },
    {
      "cell_type": "code",
      "source": [
        "#Métodos para la función sen(10x)-cos(3x)"
      ],
      "metadata": {
        "id": "VJh-r5ZiS-Bq"
      },
      "execution_count": 39,
      "outputs": []
    },
    {
      "cell_type": "code",
      "source": [
        "import scipy as sp\n",
        "import numpy as np\n",
        "f = lambda x: np.sin(10*x) - np.cos(3*x)\n",
        "res = sp.optimize.root_scalar(f, x0=3, method='secant', rtol=0.0001)\n",
        "print(res)\n"
      ],
      "metadata": {
        "colab": {
          "base_uri": "https://localhost:8080/"
        },
        "id": "MMNv9cBmTHEk",
        "outputId": "97e3261e-3395-437f-bd44-9e788cf81cb4"
      },
      "execution_count": 44,
      "outputs": [
        {
          "output_type": "stream",
          "name": "stdout",
          "text": [
            "      converged: True\n",
            "           flag: converged\n",
            " function_calls: 5\n",
            "     iterations: 4\n",
            "           root: 3.0207634325849306\n",
            "         method: secant\n"
          ]
        }
      ]
    },
    {
      "cell_type": "code",
      "source": [
        "  import scipy as sp\n",
        "  import numpy as np\n",
        "  f = lambda x: np.sin(10*x) - np.cos(3*x)\n",
        "  sp.optimize.root_scalar(f,x0=3,method='newton',rtol=0.0001)"
      ],
      "metadata": {
        "colab": {
          "base_uri": "https://localhost:8080/"
        },
        "id": "YeTgG5o5ThP8",
        "outputId": "3db98cd3-98cb-4eb2-9be6-3bf8aa3d92c1"
      },
      "execution_count": 46,
      "outputs": [
        {
          "output_type": "execute_result",
          "data": {
            "text/plain": [
              "      converged: True\n",
              "           flag: converged\n",
              " function_calls: 8\n",
              "     iterations: 4\n",
              "           root: 3.020762166930539\n",
              "         method: newton"
            ]
          },
          "metadata": {},
          "execution_count": 46
        }
      ]
    },
    {
      "cell_type": "code",
      "source": [
        "  import scipy as sp\n",
        "  import numpy as np\n",
        "  f = lambda x: np.sin(10*x) - np.cos(3*x)\n",
        "  sp.optimize.root_scalar(f,bracket=[3,5],method='bisect',rtol=0.0001)"
      ],
      "metadata": {
        "colab": {
          "base_uri": "https://localhost:8080/"
        },
        "id": "PrWPigPNUcPP",
        "outputId": "5404c28f-0e53-47cb-a22e-dfa1c086dc98"
      },
      "execution_count": 47,
      "outputs": [
        {
          "output_type": "execute_result",
          "data": {
            "text/plain": [
              "      converged: True\n",
              "           flag: converged\n",
              " function_calls: 15\n",
              "     iterations: 13\n",
              "           root: 4.470947265625\n",
              "         method: bisect"
            ]
          },
          "metadata": {},
          "execution_count": 47
        }
      ]
    },
    {
      "cell_type": "code",
      "source": [
        "  import scipy as sp\n",
        "  import numpy as np\n",
        "  f = lambda x: np.sin(10*x) - np.cos(3*x)\n",
        "  res_brent = sp.optimize.root_scalar(f, bracket=[3,5], method='brentq', rtol=0.1)\n",
        "  print(res_brent)"
      ],
      "metadata": {
        "colab": {
          "base_uri": "https://localhost:8080/"
        },
        "id": "g_hz9pJRUvQs",
        "outputId": "71546a05-41cc-4b94-e726-749b1ab9a673"
      },
      "execution_count": 49,
      "outputs": [
        {
          "output_type": "stream",
          "name": "stdout",
          "text": [
            "      converged: True\n",
            "           flag: converged\n",
            " function_calls: 3\n",
            "     iterations: 2\n",
            "           root: 3.0\n",
            "         method: brentq\n"
          ]
        }
      ]
    },
    {
      "cell_type": "code",
      "source": [
        "#Métodos para la función x^10-1"
      ],
      "metadata": {
        "id": "XDKW3szwV0Y0"
      },
      "execution_count": 50,
      "outputs": []
    },
    {
      "cell_type": "code",
      "source": [
        "import scipy as sp\n",
        "import numpy as np\n",
        "f = lambda x: (x**10)-1\n",
        "res = sp.optimize.root_scalar(f, x0=0.5, method='secant', rtol=0.0001)\n",
        "print(res)"
      ],
      "metadata": {
        "colab": {
          "base_uri": "https://localhost:8080/"
        },
        "id": "mVF6wVfxWD0c",
        "outputId": "2f55fd04-23e5-4eb1-856e-257367c0cead"
      },
      "execution_count": 61,
      "outputs": [
        {
          "output_type": "stream",
          "name": "stdout",
          "text": [
            "      converged: True\n",
            "           flag: converged\n",
            " function_calls: 4\n",
            "     iterations: 3\n",
            "           root: 0.5000000000000007\n",
            "         method: secant\n"
          ]
        }
      ]
    },
    {
      "cell_type": "code",
      "source": [
        "  import scipy as sp\n",
        "  import numpy as np\n",
        "  f = lambda x: (x**10)-1\n",
        "  sp.optimize.root_scalar(f,x0=3,method='newton',rtol=0.0001)"
      ],
      "metadata": {
        "colab": {
          "base_uri": "https://localhost:8080/"
        },
        "id": "iuM5dfKmWQJH",
        "outputId": "9bb6927b-602f-42d4-a6d3-150c6ece959c"
      },
      "execution_count": 54,
      "outputs": [
        {
          "output_type": "execute_result",
          "data": {
            "text/plain": [
              "      converged: True\n",
              "           flag: converged\n",
              " function_calls: 28\n",
              "     iterations: 14\n",
              "           root: 1.0000000022465494\n",
              "         method: newton"
            ]
          },
          "metadata": {},
          "execution_count": 54
        }
      ]
    },
    {
      "cell_type": "code",
      "source": [
        "  import scipy as sp\n",
        "  import numpy as np\n",
        "  f = lambda x: (x**10)-1\n",
        "  sp.optimize.root_scalar(f,bracket=[0.1,1.5],method='bisect',rtol=0.0001)"
      ],
      "metadata": {
        "colab": {
          "base_uri": "https://localhost:8080/"
        },
        "id": "LhB6wb6cWWwp",
        "outputId": "a650dc1f-1d26-43dc-93a1-4ace48a55be6"
      },
      "execution_count": 57,
      "outputs": [
        {
          "output_type": "execute_result",
          "data": {
            "text/plain": [
              "      converged: True\n",
              "           flag: converged\n",
              " function_calls: 16\n",
              "     iterations: 14\n",
              "           root: 1.00003662109375\n",
              "         method: bisect"
            ]
          },
          "metadata": {},
          "execution_count": 57
        }
      ]
    },
    {
      "cell_type": "code",
      "source": [
        "  import scipy as sp\n",
        "  import numpy as np\n",
        "  f = lambda x: (x**10)-1\n",
        "  res_brent = sp.optimize.root_scalar(f, bracket=[0.1,1.5], method='brentq', rtol=0.1)\n",
        "  print(res_brent)"
      ],
      "metadata": {
        "colab": {
          "base_uri": "https://localhost:8080/"
        },
        "id": "C7ic3lszWl-w",
        "outputId": "191d6231-d9c8-46d3-cfe3-8bc4ee3fbbb0"
      },
      "execution_count": 58,
      "outputs": [
        {
          "output_type": "stream",
          "name": "stdout",
          "text": [
            "      converged: True\n",
            "           flag: converged\n",
            " function_calls: 8\n",
            "     iterations: 7\n",
            "           root: 1.020462173864616\n",
            "         method: brentq\n"
          ]
        }
      ]
    },
    {
      "cell_type": "code",
      "source": [
        "#Métodos para la función x^3-5x^2+7x-3 (x0=0)"
      ],
      "metadata": {
        "id": "xNh3_UpPWyhT"
      },
      "execution_count": 62,
      "outputs": []
    },
    {
      "cell_type": "code",
      "source": [
        "import scipy as sp\n",
        "import numpy as np\n",
        "f = lambda x: (x**3)-(5*x**2)+(7*x)-3\n",
        "res = sp.optimize.root_scalar(f, x0=0, method='secant', rtol=0.0001)\n",
        "print(res)"
      ],
      "metadata": {
        "colab": {
          "base_uri": "https://localhost:8080/"
        },
        "id": "qpvy1VyeXprU",
        "outputId": "f1b4a1d9-2932-4f89-81ec-26611f07c135"
      },
      "execution_count": 65,
      "outputs": [
        {
          "output_type": "stream",
          "name": "stdout",
          "text": [
            "      converged: True\n",
            "           flag: converged\n",
            " function_calls: 20\n",
            "     iterations: 19\n",
            "           root: 0.9998677896425758\n",
            "         method: secant\n"
          ]
        }
      ]
    },
    {
      "cell_type": "code",
      "source": [
        "  import scipy as sp\n",
        "  import numpy as np\n",
        "  f = lambda x: (x**3)-(5*x**2)+(7*x)-3\n",
        "  sp.optimize.root_scalar(f,x0=0,method='newton',rtol=0.0001)"
      ],
      "metadata": {
        "colab": {
          "base_uri": "https://localhost:8080/"
        },
        "id": "owQupL9qX-47",
        "outputId": "0560b6e7-754d-44fb-c518-55590b99c151"
      },
      "execution_count": 69,
      "outputs": [
        {
          "output_type": "execute_result",
          "data": {
            "text/plain": [
              "      converged: True\n",
              "           flag: converged\n",
              " function_calls: 28\n",
              "     iterations: 14\n",
              "           root: 0.9999117519358909\n",
              "         method: newton"
            ]
          },
          "metadata": {},
          "execution_count": 69
        }
      ]
    },
    {
      "cell_type": "code",
      "source": [
        "  import scipy as sp\n",
        "  import numpy as np\n",
        "  f = lambda x: (x**3)-(5*x**2)+(7*x)-3\n",
        "  sp.optimize.root_scalar(f,bracket=[0,4],method='bisect',rtol=0.0001)"
      ],
      "metadata": {
        "colab": {
          "base_uri": "https://localhost:8080/"
        },
        "id": "I7CW9Y90YGPv",
        "outputId": "f15d9154-98c0-4657-cab1-2b5d5b12ec5c"
      },
      "execution_count": 75,
      "outputs": [
        {
          "output_type": "execute_result",
          "data": {
            "text/plain": [
              "      converged: True\n",
              "           flag: converged\n",
              " function_calls: 4\n",
              "     iterations: 2\n",
              "           root: 3.0\n",
              "         method: bisect"
            ]
          },
          "metadata": {},
          "execution_count": 75
        }
      ]
    },
    {
      "cell_type": "code",
      "source": [
        "  import scipy as sp\n",
        "  import numpy as np\n",
        "  f = lambda x: (x**3)-(5*x**2)+(7*x)-3\n",
        "  res_brent = sp.optimize.root_scalar(f, bracket=[0,4], method='brentq', rtol=0.1)\n",
        "  print(res_brent)"
      ],
      "metadata": {
        "colab": {
          "base_uri": "https://localhost:8080/"
        },
        "id": "Dpse0dL_YuIJ",
        "outputId": "dda8229b-f86f-4888-905d-861870d8e29a"
      },
      "execution_count": 73,
      "outputs": [
        {
          "output_type": "stream",
          "name": "stdout",
          "text": [
            "      converged: True\n",
            "           flag: converged\n",
            " function_calls: 3\n",
            "     iterations: 2\n",
            "           root: 1.0\n",
            "         method: brentq\n"
          ]
        }
      ]
    },
    {
      "cell_type": "code",
      "source": [
        "#Métodos para la función x^3-5x^2+7x-3 (x0=4) secante y newton"
      ],
      "metadata": {
        "id": "Z009-4gBY8Jz"
      },
      "execution_count": 78,
      "outputs": []
    },
    {
      "cell_type": "code",
      "source": [
        "import scipy as sp\n",
        "import numpy as np\n",
        "f = lambda x: (x**3)-(5*x**2)+(7*x)-3\n",
        "res = sp.optimize.root_scalar(f, x0=4, method='secant', rtol=0.0001)\n",
        "print(res)"
      ],
      "metadata": {
        "colab": {
          "base_uri": "https://localhost:8080/"
        },
        "id": "Ywn5LELEY-zM",
        "outputId": "6672836a-cf15-4f8e-ac27-d3be2969bdfa"
      },
      "execution_count": 76,
      "outputs": [
        {
          "output_type": "stream",
          "name": "stdout",
          "text": [
            "      converged: True\n",
            "           flag: converged\n",
            " function_calls: 8\n",
            "     iterations: 7\n",
            "           root: 3.000000001731405\n",
            "         method: secant\n"
          ]
        }
      ]
    },
    {
      "cell_type": "code",
      "source": [
        "  import scipy as sp\n",
        "  import numpy as np\n",
        "  f = lambda x: (x**3)-(5*x**2)+(7*x)-3\n",
        "  sp.optimize.root_scalar(f,x0=4,method='newton',rtol=0.0001)"
      ],
      "metadata": {
        "colab": {
          "base_uri": "https://localhost:8080/"
        },
        "id": "GDjlrRa_ZClo",
        "outputId": "074500f2-7bdd-4cbe-ad30-1083f946cff8"
      },
      "execution_count": 77,
      "outputs": [
        {
          "output_type": "execute_result",
          "data": {
            "text/plain": [
              "      converged: True\n",
              "           flag: converged\n",
              " function_calls: 10\n",
              "     iterations: 5\n",
              "           root: 3.0000000055758353\n",
              "         method: newton"
            ]
          },
          "metadata": {},
          "execution_count": 77
        }
      ]
    }
  ]
}